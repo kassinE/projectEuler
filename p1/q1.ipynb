{
 "cells": [
  {
   "cell_type": "markdown",
   "metadata": {},
   "source": [
    "# Problem 1"
   ]
  },
  {
   "cell_type": "markdown",
   "metadata": {},
   "source": [
    "![alt text](image.png)"
   ]
  },
  {
   "cell_type": "markdown",
   "metadata": {},
   "source": [
    "\n",
    "    # for n < 1000:\n",
    "    #   add all multiples of 3\n",
    "    #   add all multiples of 5\n",
    "    #   subtract all multiples of 15 = 3*5, as the appear in both sets\n"
   ]
  },
  {
   "cell_type": "markdown",
   "metadata": {},
   "source": [
    "# Code"
   ]
  },
  {
   "cell_type": "code",
   "execution_count": 1,
   "metadata": {},
   "outputs": [],
   "source": [
    "import numpy as np\n",
    "\n",
    "multiples_of_three = np.arange(0,1000,3)\n",
    "multiples_of_five = np.arange(0,1000,5)\n",
    "multiples_of_fifteen = np.arange(0,1000,15)\n"
   ]
  },
  {
   "cell_type": "code",
   "execution_count": 13,
   "metadata": {},
   "outputs": [
    {
     "name": "stdout",
     "output_type": "stream",
     "text": [
      "166833\n",
      "99500\n",
      "33165\n"
     ]
    }
   ],
   "source": [
    "print(np.sum(multiples_of_three))\n",
    "print(np.sum(multiples_of_five))\n",
    "print(np.sum(multiples_of_fifteen))"
   ]
  },
  {
   "cell_type": "code",
   "execution_count": 15,
   "metadata": {},
   "outputs": [
    {
     "name": "stdout",
     "output_type": "stream",
     "text": [
      "The sum of all multiples of 3 or 5 below 1000 is =233168.00\n"
     ]
    }
   ],
   "source": [
    "ans = np.sum(multiples_of_three) + np.sum(multiples_of_five) - np.sum(multiples_of_fifteen)\n",
    "print(f'The sum of all multiples of 3 or 5 below 1000 is ={ans:.2f}')"
   ]
  }
 ],
 "metadata": {
  "kernelspec": {
   "display_name": "Python 3",
   "language": "python",
   "name": "python3"
  },
  "language_info": {
   "codemirror_mode": {
    "name": "ipython",
    "version": 3
   },
   "file_extension": ".py",
   "mimetype": "text/x-python",
   "name": "python",
   "nbconvert_exporter": "python",
   "pygments_lexer": "ipython3",
   "version": "3.11.9"
  }
 },
 "nbformat": 4,
 "nbformat_minor": 2
}
